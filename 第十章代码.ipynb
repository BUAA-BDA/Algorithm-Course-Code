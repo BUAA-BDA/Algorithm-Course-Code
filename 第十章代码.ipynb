{
 "cells": [
  {
   "cell_type": "markdown",
   "metadata": {},
   "source": [
    "# 第十章代码"
   ]
  },
  {
   "cell_type": "markdown",
   "metadata": {},
   "source": [
    "## 算法 10.1"
   ]
  },
  {
   "cell_type": "code",
   "execution_count": null,
   "metadata": {},
   "outputs": [],
   "source": [
    "W = [[6 + min(x, 8 - x, y, 8 - y) for y in range(9)] for x in range(9)]\n",
    "\n",
    "def next(x, y):\n",
    "    y += 1\n",
    "    if y == 9:\n",
    "        x += 1\n",
    "        y = 0\n",
    "    return x, y\n",
    "\n",
    "def SudokuBruteForce(S, nx, ny):\n",
    "    if nx == 9:\n",
    "        ans = 0\n",
    "        for i in range(9):\n",
    "            for j in range(9):\n",
    "                ans += S[i][j] * W[i][j]\n",
    "        return ans\n",
    "\n",
    "    nnx, nny = next(nx, ny)\n",
    "    while nnx != 9 and S[nnx][nny] != 0:\n",
    "        nnx, nny = next(nnx, nny)\n",
    "\n",
    "    ans = -1\n",
    "    for i in range(1, 10):\n",
    "        flg = True\n",
    "        for j in range(9):\n",
    "            if S[nx][j] == i or S[j][ny] == i:\n",
    "                flg = False\n",
    "                break\n",
    "        sx = nx // 3 * 3\n",
    "        sy = ny // 3 * 3\n",
    "        for x in range(sx, sx + 3):\n",
    "            for y in range(sy, sy + 3):\n",
    "                if S[x][y] == i:\n",
    "                    flg = False\n",
    "                    break\n",
    "            if not flg:\n",
    "                break\n",
    "        \n",
    "        if flg:\n",
    "            S[nx][ny] = i\n",
    "            ret = SudokuBruteForce(S, nnx, nny)\n",
    "            if ret != -1:\n",
    "                ans = max(ans, ret)\n",
    "            S[nx][ny] = 0\n",
    "    return ans\n",
    "\n",
    "if __name__ == '__main__':\n",
    "    S = [[0 for y in range(9)] for x in range(9)]\n",
    "    print(SudokuBruteForce(S, 0, 0))"
   ]
  },
  {
   "cell_type": "markdown",
   "metadata": {},
   "source": [
    "## 算法10.2"
   ]
  },
  {
   "cell_type": "code",
   "execution_count": null,
   "metadata": {},
   "outputs": [],
   "source": [
    "W = [[6 + min(x, 8 - x, y, 8 - y) for y in range(9)] for x in range(9)]\n",
    "def Estimate(S):\n",
    "    ret = 0\n",
    "    for i in range(9):\n",
    "        for j in range(9):\n",
    "            if S[i][j] == 0:\n",
    "                ret += 9 * W[i][j]\n",
    "            else:\n",
    "                ret += S[i][j] * W[i][j]\n",
    "    return ret\n",
    "\n",
    "totans = -1"
   ]
  },
  {
   "cell_type": "markdown",
   "metadata": {},
   "source": [
    "## 算法10.3"
   ]
  },
  {
   "cell_type": "code",
   "execution_count": null,
   "metadata": {},
   "outputs": [],
   "source": [
    "W = [[6 + min(x, 8 - x, y, 8 - y) for y in range(9)] for x in range(9)]\n",
    "\n",
    "def next(x, y):\n",
    "    y += 1\n",
    "    if y == 9:\n",
    "        x += 1\n",
    "        y = 0\n",
    "    return x, y\n",
    "\n",
    "def Estimate(S):\n",
    "    ret = 0\n",
    "    for i in range(9):\n",
    "        for j in range(9):\n",
    "            if S[i][j] == 0:\n",
    "                ret += 9 * W[i][j]\n",
    "            else:\n",
    "                ret += S[i][j] * W[i][j]\n",
    "    return ret\n",
    "\n",
    "totans = -1\n",
    "def SudokuBruteForce(S, nx, ny):\n",
    "\n",
    "    global totans\n",
    "\n",
    "    if nx == 9:\n",
    "        ans = 0\n",
    "        for i in range(9):\n",
    "            for j in range(9):\n",
    "                ans += S[i][j] * W[i][j]\n",
    "        totans = max(ans, totans)\n",
    "        return\n",
    "\n",
    "    nnx, nny = next(nx, ny)\n",
    "    while nnx != 9 and S[nnx][nny] != 0:\n",
    "        nnx, nny = next(nnx, nny)\n",
    "\n",
    "    for i in range(1, 10):\n",
    "        flg = True\n",
    "        for j in range(9):\n",
    "            if S[nx][j] == i or S[j][ny] == i:\n",
    "                flg = False\n",
    "                break\n",
    "        sx = nx // 3 * 3\n",
    "        sy = ny // 3 * 3\n",
    "        for x in range(sx, sx + 3):\n",
    "            for y in range(sy, sy + 3):\n",
    "                if S[x][y] == i:\n",
    "                    flg = False\n",
    "                    break\n",
    "            if not flg:\n",
    "                break\n",
    "        \n",
    "        if flg:\n",
    "            S[nx][ny] = i\n",
    "            if Estimate(S) > totans:\n",
    "                SudokuBruteForce(S, nnx, nny)\n",
    "                S[nx][ny] = 0\n",
    "    return\n",
    "\n",
    "if __name__ == '__main__':\n",
    "    S = [[0 for y in range(9)] for x in range(9)]\n",
    "    print(SudokuBruteForce(S, 0, 0))"
   ]
  },
  {
   "cell_type": "markdown",
   "metadata": {},
   "source": [
    "## 算法 10.4"
   ]
  },
  {
   "cell_type": "code",
   "execution_count": 57,
   "metadata": {},
   "outputs": [
    {
     "name": "stdout",
     "output_type": "stream",
     "text": [
      "18\n",
      "[0, 2, 1]\n"
     ]
    }
   ],
   "source": [
    "ans = -1\n",
    "dur1 = []\n",
    "dur2 = []\n",
    "order = []\n",
    "\n",
    "def TotalWaitTime(A, n):\n",
    "    global dur1\n",
    "    global dur2\n",
    "    t1 = 0\n",
    "    t2 = 0\n",
    "    ret = 0\n",
    "    for i in range(n):\n",
    "        t1 += dur1[A[i]]\n",
    "        t2 = max(t1, t2) + dur2[A[i]]\n",
    "        ret += t2\n",
    "    return ret\n",
    "\n",
    "def JSP_BruteForce(A, p, n):\n",
    "    global ans\n",
    "    global order\n",
    "    if p == n:\n",
    "        tmp = TotalWaitTime(A, n)\n",
    "        if ans == -1 or tmp < ans:\n",
    "            ans = tmp\n",
    "            order = A.copy()\n",
    "        return\n",
    "    \n",
    "    for i in range(n):\n",
    "        flg = True\n",
    "        for j in A:\n",
    "            if i == j:\n",
    "                flg = False\n",
    "                break\n",
    "        if flg:\n",
    "            A.append(i)\n",
    "            JSP_BruteForce(A, p + 1, n)\n",
    "            A.pop()\n",
    "\n",
    "if __name__ == '__main__':\n",
    "    n = 3\n",
    "    dur1 = [2, 3, 2]\n",
    "    dur2 = [1, 1, 3]\n",
    "    A = []\n",
    "    JSP_BruteForce(A, 0, n)\n",
    "    print(ans)\n",
    "    print(order)\n",
    "    print(TotalWaitTime(order, n))"
   ]
  },
  {
   "cell_type": "markdown",
   "metadata": {},
   "source": [
    "## 算法 10.5"
   ]
  },
  {
   "cell_type": "code",
   "execution_count": null,
   "metadata": {},
   "outputs": [],
   "source": [
    "def TotalWaitTime(A, n):\n",
    "    global dur1\n",
    "    global dur2\n",
    "    t1 = 0\n",
    "    t2 = 0\n",
    "    ret = 0\n",
    "    for i in range(n):\n",
    "        t1 += dur1[A[i]]\n",
    "        t2 = max(t1, t2) + dur2[A[i]]\n",
    "        ret += t2\n",
    "    return ret"
   ]
  },
  {
   "cell_type": "markdown",
   "metadata": {},
   "source": [
    "## 算法 10.6"
   ]
  },
  {
   "cell_type": "code",
   "execution_count": 64,
   "metadata": {},
   "outputs": [
    {
     "name": "stdout",
     "output_type": "stream",
     "text": [
      "18\n",
      "[0, 2, 1]\n"
     ]
    }
   ],
   "source": [
    "ans = -1\n",
    "dur1 = []\n",
    "dur2 = []\n",
    "order = []\n",
    "\n",
    "def TotalWaitTime(A, n):\n",
    "    global dur1\n",
    "    global dur2\n",
    "    t1 = 0\n",
    "    t2 = 0\n",
    "    ret = 0\n",
    "    for i in range(n):\n",
    "        t1 += dur1[A[i]]\n",
    "        t2 = max(t1, t2) + dur2[A[i]]\n",
    "        ret += t2\n",
    "    return ret\n",
    "\n",
    "def JSP_BruteForce(A, p, n):\n",
    "    global ans\n",
    "    global order\n",
    "    if p == n:\n",
    "        tmp = TotalWaitTime(A, n)\n",
    "        if ans == -1 or tmp < ans:\n",
    "            ans = tmp\n",
    "            order = A.copy()\n",
    "        return\n",
    "    \n",
    "    if ans != -1 and p != 0 and TotalWaitTime(A.copy(), p) >= ans:\n",
    "        return\n",
    "    \n",
    "    for i in range(n):\n",
    "        flg = True\n",
    "        for j in A:\n",
    "            if i == j:\n",
    "                flg = False\n",
    "                break\n",
    "        if flg:\n",
    "            A.append(i)\n",
    "            JSP_BruteForce(A.copy(), p + 1, n)\n",
    "            A.pop()\n",
    "\n",
    "if __name__ == '__main__':\n",
    "    n = 3\n",
    "    dur1 = [2, 3, 2]\n",
    "    dur2 = [1, 1, 3]\n",
    "    A = []\n",
    "    JSP_BruteForce(A, 0, n)\n",
    "    print(ans)\n",
    "    print(order)"
   ]
  },
  {
   "cell_type": "markdown",
   "metadata": {},
   "source": [
    "## 算法 10.7"
   ]
  },
  {
   "cell_type": "code",
   "execution_count": 76,
   "metadata": {},
   "outputs": [
    {
     "name": "stdout",
     "output_type": "stream",
     "text": [
      "80\n"
     ]
    }
   ],
   "source": [
    "totans = -1\n",
    "graph = [[]]\n",
    "\n",
    "def getLen(A, n):\n",
    "    ans = 0\n",
    "    for i in range(n - 1):\n",
    "        ans += graph[A[i]][A[i + 1]]\n",
    "    return ans + graph[A[-1]][A[0]]\n",
    "\n",
    "def TSP_BruteForce(A, p, n):\n",
    "    global totans\n",
    "    if p == n:\n",
    "        tmp = getLen(A.copy(), n)\n",
    "        if totans == -1 or tmp < totans:\n",
    "            totans = tmp\n",
    "        return\n",
    "    \n",
    "    for c in range(n):\n",
    "        if c in A:\n",
    "            continue\n",
    "        A.append(c)\n",
    "        TSP_BruteForce(A.copy(), p + 1, n)\n",
    "        A.pop()\n",
    "\n",
    "if __name__ == '__main__':\n",
    "    n = 4\n",
    "    graph = [[0, 10, 25, 20], [10, 0, 35, 15], [25, 35, 0, 30], [20, 15, 30, 0]]\n",
    "    A = []\n",
    "    TSP_BruteForce(A, 0, n)\n",
    "    print(totans)"
   ]
  },
  {
   "cell_type": "markdown",
   "metadata": {},
   "source": [
    "## 算法 10.8"
   ]
  },
  {
   "cell_type": "code",
   "execution_count": 80,
   "metadata": {},
   "outputs": [
    {
     "name": "stdout",
     "output_type": "stream",
     "text": [
      "80\n"
     ]
    }
   ],
   "source": [
    "totans = -1\n",
    "graph = [[]]\n",
    "\n",
    "def getLen(A, n):\n",
    "    ans = 0\n",
    "    for i in range(n - 1):\n",
    "        ans += graph[A[i]][A[i + 1]]\n",
    "    return ans + graph[A[-1]][A[0]]\n",
    "\n",
    "def sum_min_two(x):\n",
    "    min1 = x[0]\n",
    "    min2 = x[1]\n",
    "    if min1 > min2:\n",
    "        t = min2\n",
    "        min2 = min1\n",
    "        min1 = t\n",
    "    for i in range(2, len(x)):\n",
    "        if x[i] == 0:\n",
    "            continue\n",
    "        if x[i] < min1:\n",
    "            min2 = min1\n",
    "            min1 = x[i]\n",
    "        elif x[i] < min2:\n",
    "            min2 = x[i]\n",
    "    return min1 + min2\n",
    "\n",
    "def TSP_CountFunction(A, p, n):\n",
    "    if p == n - 1:\n",
    "        return getLen(A, n)\n",
    "    \n",
    "    ret = getLen(A, p) - graph[A[-1]][A[0]]\n",
    "    for i in range(n):\n",
    "        if not i in A:\n",
    "            ret += sum_min_two(graph[i]) / 2\n",
    "\n",
    "def TSP_BranchAndBound(A, p, n):\n",
    "    global totans\n",
    "    if p == n:\n",
    "        tmp = getLen(A.copy(), n)\n",
    "        if totans == -1 or tmp < totans:\n",
    "            totans = tmp\n",
    "        return\n",
    "    \n",
    "    if TSP_CountFunction(A, p) >= ans:\n",
    "        return\n",
    "    \n",
    "    for c in range(n):\n",
    "        if c in A:\n",
    "            continue\n",
    "        A.append(c)\n",
    "        TSP_BranchAndBound(A.copy(), p + 1, n)\n",
    "        A.pop()\n",
    "\n",
    "if __name__ == '__main__':\n",
    "    n = 4\n",
    "    graph = [[0, 10, 25, 20], [10, 0, 35, 15], [25, 35, 0, 30], [20, 15, 30, 0]]\n",
    "    A = []\n",
    "    TSP_BruteForce(A, 0, n)\n",
    "    print(totans)"
   ]
  },
  {
   "cell_type": "markdown",
   "metadata": {},
   "source": [
    "## 算法 10.9"
   ]
  },
  {
   "cell_type": "code",
   "execution_count": null,
   "metadata": {},
   "outputs": [],
   "source": [
    "totans = -1\n",
    "graph = [[]]\n",
    "\n",
    "def getLen(A, n):\n",
    "    ans = 0\n",
    "    for i in range(n - 1):\n",
    "        ans += graph[A[i]][A[i + 1]]\n",
    "    return ans + graph[A[-1]][A[0]]\n",
    "\n",
    "def sum_min_two(x):\n",
    "    min1 = x[0]\n",
    "    min2 = x[1]\n",
    "    if min1 > min2:\n",
    "        t = min2\n",
    "        min2 = min1\n",
    "        min1 = t\n",
    "    for i in range(2, len(x)):\n",
    "        if x[i] == 0:\n",
    "            continue\n",
    "        if x[i] < min1:\n",
    "            min2 = min1\n",
    "            min1 = x[i]\n",
    "        elif x[i] < min2:\n",
    "            min2 = x[i]\n",
    "    return min1 + min2\n",
    "\n",
    "def TSP_CountFunction(A, p, n):\n",
    "    if p == n - 1:\n",
    "        return getLen(A, n)\n",
    "    \n",
    "    ret = getLen(A, p) - graph[A[-1]][A[0]]\n",
    "    for i in range(n):\n",
    "        if not i in A:\n",
    "            ret += sum_min_two(graph[i]) / 2"
   ]
  }
 ],
 "metadata": {
  "kernelspec": {
   "display_name": "Python 3",
   "language": "python",
   "name": "python3"
  },
  "language_info": {
   "codemirror_mode": {
    "name": "ipython",
    "version": 3
   },
   "file_extension": ".py",
   "mimetype": "text/x-python",
   "name": "python",
   "nbconvert_exporter": "python",
   "pygments_lexer": "ipython3",
   "version": "3.11.8"
  }
 },
 "nbformat": 4,
 "nbformat_minor": 2
}
