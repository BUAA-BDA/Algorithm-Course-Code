{
 "cells": [
  {
   "cell_type": "markdown",
   "metadata": {},
   "source": [
    "# 第一章代码"
   ]
  },
  {
   "cell_type": "markdown",
   "metadata": {},
   "source": [
    "## 算法1.1"
   ]
  },
  {
   "cell_type": "code",
   "execution_count": 3,
   "metadata": {},
   "outputs": [
    {
     "name": "stdout",
     "output_type": "stream",
     "text": [
      "[11, 12, 22, 25, 25, 64]\n"
     ]
    }
   ],
   "source": [
    "# author: Zeqi Zhu (sy2242117@buaa.edu.cn)\n",
    "# 选择排序算法\n",
    "def selection_sort(A):\n",
    "    n = len(A)\n",
    "    for i in range(n - 1):\n",
    "        # Find the minimum element in the remaining unsorted array\n",
    "        cur_min_pos = i\n",
    "        for j in range(i + 1, n):\n",
    "            if A[j] < A[cur_min_pos]:\n",
    "                cur_min_pos = j\n",
    "        # Swap the found minimum element with the first element\n",
    "        A[i], A[cur_min_pos] = A[cur_min_pos], A[i]\n",
    "    return A\n",
    "\n",
    "# Example usage:\n",
    "example_array = [64, 25, 25, 12, 22, 11]\n",
    "sorted_array = selection_sort(example_array)\n",
    "print(sorted_array)"
   ]
  },
  {
   "cell_type": "markdown",
   "metadata": {},
   "source": [
    "## 算法1.2"
   ]
  },
  {
   "cell_type": "code",
   "execution_count": 16,
   "metadata": {},
   "outputs": [
    {
     "name": "stdout",
     "output_type": "stream",
     "text": [
      "[1, 2, 2, 3, 3, 4, 5, 5, 7, 8]\n"
     ]
    }
   ],
   "source": [
    "# author: Zeqi Zhu (sy2242117@buaa.edu.cn)\n",
    "# 插入排序算法\n",
    "\n",
    "def insertion_sort(A):\n",
    "    for j in range(1, len(A)):\n",
    "        key = A[j]\n",
    "        i = j - 1\n",
    "        while i >= 0 and A[i] > key:\n",
    "            A[i + 1] = A[i]\n",
    "            i -= 1\n",
    "        A[i + 1] = key\n",
    "    return A\n",
    "\n",
    "# Example usage:\n",
    "sample_array = [3, 2, 5, 2, 8, 3, 1, 5, 7, 4]\n",
    "sorted_array = insertion_sort(sample_array)\n",
    "print(sorted_array)\n"
   ]
  }
 ],
 "metadata": {
  "kernelspec": {
   "display_name": "py38_torch",
   "language": "python",
   "name": "python3"
  },
  "language_info": {
   "codemirror_mode": {
    "name": "ipython",
    "version": 3
   },
   "file_extension": ".py",
   "mimetype": "text/x-python",
   "name": "python",
   "nbconvert_exporter": "python",
   "pygments_lexer": "ipython3",
   "version": "3.8.18"
  }
 },
 "nbformat": 4,
 "nbformat_minor": 2
}
