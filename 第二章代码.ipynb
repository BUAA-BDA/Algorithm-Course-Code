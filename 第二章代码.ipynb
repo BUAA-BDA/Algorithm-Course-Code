{
 "cells": [
  {
   "cell_type": "markdown",
   "metadata": {},
   "source": [
    "# 第二章代码"
   ]
  },
  {
   "cell_type": "markdown",
   "metadata": {},
   "source": [
    "## 算法 2.1"
   ]
  },
  {
   "cell_type": "code",
   "execution_count": null,
   "metadata": {},
   "outputs": [],
   "source": [
    "# author: Binhan Yang(frigidpigeongugugu@gmail.com)\n",
    "# 二分查找算法\n",
    "\n",
    "def binary_search(arr, l, r, x):\n",
    "    if l > r:\n",
    "        return None\n",
    "    mid = (l + r) // 2\n",
    "    if(arr[mid] == x):\n",
    "        return mid\n",
    "    if(arr[mid] < x):\n",
    "        return binary_search(arr, mid + 1, r, x)\n",
    "    if(arr[mid] > x):\n",
    "        return binary_search(arr, l, mid - 1, x)\n",
    "\n",
    "# Example usage:\n",
    "if __name__ == '__main__':\n",
    "    array = [1, 2, 4, 7, 10, 12]\n",
    "    n = len(array)\n",
    "    print(binary_search(array, 0, n - 1, 7))\n",
    "    print(binary_search(array, 0, n - 1, 6))"
   ]
  }
 ],
 "metadata": {
  "language_info": {
   "name": "python"
  }
 },
 "nbformat": 4,
 "nbformat_minor": 2
}
