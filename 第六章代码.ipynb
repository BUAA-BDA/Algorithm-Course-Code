{
 "cells": [
  {
   "cell_type": "markdown",
   "metadata": {},
   "source": [
    "# 第六章代码"
   ]
  },
  {
   "cell_type": "markdown",
   "metadata": {},
   "source": [
    "## 算法 6.1"
   ]
  },
  {
   "cell_type": "code",
   "execution_count": 14,
   "metadata": {},
   "outputs": [
    {
     "name": "stdout",
     "output_type": "stream",
     "text": [
      "[[0, 0, 0, 0, 0, 0], [0, 1, 1, 1, 1, 1], [0, 1, 1, 1, 1, 2], [0, 1, 2, 2, 2, 2], [0, 1, 2, 2, 3, 3], [0, 1, 2, 2, 3, 4], [0, 1, 2, 2, 3, 4]]\n",
      "[['', '', '', '', '', ''], ['', 'LU', 'L', 'L', 'L', 'LU'], ['', 'LU', 'L', 'L', 'L', 'LU'], ['', 'U', 'LU', 'L', 'L', 'L'], ['', 'U', 'U', 'L', 'LU', 'L'], ['', 'LU', 'U', 'L', 'U', 'LU'], ['', 'U', 'LU', 'L', 'U', 'U']]\n"
     ]
    }
   ],
   "source": [
    "def longest_common_subsequence(sa : list, sb : list):\n",
    "    n = len(sa)\n",
    "    m = len(sb)\n",
    "    C = [[0 for i in range(m + 1)] for _ in range(n + 1)]\n",
    "    rec = [[\"\" for i in range(m + 1)] for _ in range(n + 1)]\n",
    "    for i in range(1, n + 1):\n",
    "        for j in range(1, m + 1):\n",
    "            if sa[i - 1] == sb[j - 1]:\n",
    "                C[i][j] = C[i - 1][j - 1] + 1\n",
    "                rec[i][j] = \"LU\"\n",
    "            elif C[i - 1][j] > C[i][j - 1]:\n",
    "                C[i][j] = C[i - 1][j]\n",
    "                rec[i][j] = \"U\"\n",
    "            else:\n",
    "                C[i][j] = C[i][j - 1]\n",
    "                rec[i][j] = \"L\"\n",
    "    return C, rec\n",
    "\n",
    "if __name__ == '__main__':\n",
    "    seqa = [1, 1, 4, 5, 1, 4]\n",
    "    seqb = [1, 4, 3, 5, 1]\n",
    "    C, rec = longest_common_subsequence(seqa, seqb)\n",
    "    print(C)\n",
    "    print(rec)"
   ]
  },
  {
   "cell_type": "markdown",
   "metadata": {},
   "source": [
    "## 算法 6.2"
   ]
  },
  {
   "cell_type": "code",
   "execution_count": 17,
   "metadata": {},
   "outputs": [
    {
     "name": "stdout",
     "output_type": "stream",
     "text": [
      "[1, 4, 5, 1]\n"
     ]
    }
   ],
   "source": [
    "def print_LCS(sa : list, rec, i, j):\n",
    "    if i == 0 or j == 0:\n",
    "        return []\n",
    "    if rec[i][j].__eq__(\"LU\"):\n",
    "        cur = print_LCS(sa, rec, i - 1, j - 1)\n",
    "        cur.append(sa[i - 1])\n",
    "        return cur\n",
    "    elif rec[i][j].__eq__(\"U\"):\n",
    "        return print_LCS(sa, rec, i - 1, j)\n",
    "    else:\n",
    "        return print_LCS(sa, rec, i, j - 1)\n",
    "\n",
    "### algo6.1 for generation of test data    \n",
    "def longest_common_subsequence(sa : list, sb : list):\n",
    "    n = len(sa)\n",
    "    m = len(sb)\n",
    "    C = [[0 for i in range(m + 1)] for _ in range(n + 1)]\n",
    "    rec = [[\"\" for i in range(m + 1)] for _ in range(n + 1)]\n",
    "    for i in range(1, n + 1):\n",
    "        for j in range(1, m + 1):\n",
    "            if sa[i - 1] == sb[j - 1]:\n",
    "                C[i][j] = C[i - 1][j - 1] + 1\n",
    "                rec[i][j] = \"LU\"\n",
    "            elif C[i - 1][j] > C[i][j - 1]:\n",
    "                C[i][j] = C[i - 1][j]\n",
    "                rec[i][j] = \"U\"\n",
    "            else:\n",
    "                C[i][j] = C[i][j - 1]\n",
    "                rec[i][j] = \"L\"\n",
    "    return C, rec\n",
    "\n",
    "if __name__ == '__main__':\n",
    "    seqa = [1, 1, 4, 5, 1, 4]\n",
    "    seqb = [1, 4, 3, 5, 1]\n",
    "    C, rec = longest_common_subsequence(seqa, seqb)\n",
    "    print(print_LCS(seqa, rec, len(seqa), len(seqb)))"
   ]
  },
  {
   "cell_type": "markdown",
   "metadata": {},
   "source": [
    "## 算法 6.3"
   ]
  },
  {
   "cell_type": "code",
   "execution_count": 18,
   "metadata": {},
   "outputs": [
    {
     "name": "stdout",
     "output_type": "stream",
     "text": [
      "[[0, 1, 2, 2, 3, 4], [0, 1, 2, 2, 3, 4]]\n",
      "[['', '', '', '', '', ''], ['', 'LU', 'L', 'L', 'L', 'LU'], ['', 'LU', 'L', 'L', 'L', 'LU'], ['', 'U', 'LU', 'L', 'L', 'L'], ['', 'U', 'U', 'L', 'LU', 'L'], ['', 'LU', 'U', 'L', 'U', 'LU'], ['', 'U', 'LU', 'L', 'U', 'U']]\n"
     ]
    }
   ],
   "source": [
    "def LCS_scrolling_array(sa : list, sb : list):\n",
    "    n = len(sa)\n",
    "    m = len(sb)\n",
    "    C = [[0 for i in range(m + 1)] for _ in range(2)]\n",
    "    rec = [[\"\" for i in range(m + 1)] for _ in range(n + 1)]\n",
    "    for i in range(1, n + 1):\n",
    "        for j in range(1, m + 1):\n",
    "            id = i & 1\n",
    "            if sa[i - 1] == sb[j - 1]:\n",
    "                C[id][j] = C[id ^ 1][j - 1] + 1\n",
    "                rec[i][j] = \"LU\"\n",
    "            elif C[id ^ 1][j] > C[id][j - 1]:\n",
    "                C[id][j] = C[id ^ 1][j]\n",
    "                rec[i][j] = \"U\"\n",
    "            else:\n",
    "                C[id][j] = C[id][j - 1]\n",
    "                rec[i][j] = \"L\"\n",
    "    return C, rec\n",
    "\n",
    "if __name__ == '__main__':\n",
    "    seqa = [1, 1, 4, 5, 1, 4]\n",
    "    seqb = [1, 4, 3, 5, 1]\n",
    "    C, rec = LCS_scrolling_array(seqa, seqb)\n",
    "    print(C)\n",
    "    print(rec)"
   ]
  },
  {
   "cell_type": "markdown",
   "metadata": {},
   "source": [
    "## 算法 6.4"
   ]
  },
  {
   "cell_type": "code",
   "execution_count": 22,
   "metadata": {},
   "outputs": [
    {
     "name": "stdout",
     "output_type": "stream",
     "text": [
      "2\n",
      "[['L', 'L', 'L', 'L', 'L', 'L', 'L', 'L'], ['U', 'LU', 'L', 'L', 'L', 'L', 'L', 'L'], ['U', 'U', 'LU', 'L', 'L', 'L', 'L', 'L'], ['U', 'U', 'U', 'LU', 'L', 'L', 'L', 'L'], ['U', 'U', 'U', 'U', 'LU', 'L', 'L', 'L'], ['U', 'U', 'U', 'U', 'LU', 'L', 'L', 'L'], ['U', 'U', 'U', 'U', 'U', 'LU', 'L', 'L'], ['U', 'U', 'U', 'U', 'U', 'U', 'LU', 'L'], ['U', 'U', 'U', 'U', 'U', 'U', 'U', 'LU']]\n"
     ]
    }
   ],
   "source": [
    "def minimal_edit_distance(s : str, t : str):\n",
    "    n = len(s)\n",
    "    m = len(t)\n",
    "    D = [[0 for _ in range(m + 1)] for __ in range(n + 1)]\n",
    "    rec = [[0 for _ in range(m + 1)] for __ in range(n + 1)]\n",
    "    for i in range(n + 1):\n",
    "        D[i][0] = i\n",
    "        rec[i][0] = \"U\"\n",
    "    for j in range(m + 1):\n",
    "        D[0][j] = j\n",
    "        rec[0][j] = \"L\"\n",
    "    \n",
    "    for i in range(1, n + 1):\n",
    "        for j in range(1, m + 1):\n",
    "            ansDel = D[i - 1][j] + 1\n",
    "            ansIns = D[i][j - 1] + 1\n",
    "            ansRep = D[i - 1][j - 1] + (0 if s[i - 1] == t[j - 1] else 1)\n",
    "            D[i][j] = min(ansDel, ansIns, ansRep)\n",
    "            if D[i][j] == ansDel:\n",
    "                rec[i][j] = \"U\"\n",
    "            elif D[i][j] == ansIns:\n",
    "                rec[i][j] = \"L\"\n",
    "            else:\n",
    "                rec[i][j] = \"LU\"\n",
    "    return D[n][m], rec\n",
    "\n",
    "if __name__ == '__main__':\n",
    "    s1 = \"kittcjen\"\n",
    "    s2 = \"kitchen\"\n",
    "    ans, rec = minimal_edit_distance(s1, s2)\n",
    "    print(ans)\n",
    "    print(rec)"
   ]
  },
  {
   "cell_type": "markdown",
   "metadata": {},
   "source": [
    "## 算法 6.5"
   ]
  },
  {
   "cell_type": "code",
   "execution_count": 25,
   "metadata": {},
   "outputs": [
    {
     "name": "stdout",
     "output_type": "stream",
     "text": [
      "delete t.\n",
      "replace j with h.\n"
     ]
    }
   ],
   "source": [
    "def print_MED(rec, s, t, i, j):\n",
    "    if i == 0 or j == 0:\n",
    "        return None\n",
    "    if rec[i][j] == \"LU\":\n",
    "        print_MED(rec, s, t, i - 1, j - 1)\n",
    "        if s[i - 1] != t[j - 1]:\n",
    "            print(\"replace {} with {}.\".format(s[i - 1], t[j - 1])) \n",
    "    elif rec[i][j] == \"U\":\n",
    "        print_MED(rec, s, t, i - 1, j)\n",
    "        print(\"delete {}.\".format(s[i - 1]))\n",
    "    else:\n",
    "        print_MED(rec, s, t, i, j - 1)\n",
    "        print(\"insert {}.\".format(t[j - 1]))\n",
    "\n",
    "# algo6.4 for generation of the test data\n",
    "def minimal_edit_distance(s : str, t : str):\n",
    "    n = len(s)\n",
    "    m = len(t)\n",
    "    D = [[0 for _ in range(m + 1)] for __ in range(n + 1)]\n",
    "    rec = [[0 for _ in range(m + 1)] for __ in range(n + 1)]\n",
    "    for i in range(n + 1):\n",
    "        D[i][0] = i\n",
    "        rec[i][0] = \"U\"\n",
    "    for j in range(m + 1):\n",
    "        D[0][j] = j\n",
    "        rec[0][j] = \"L\"\n",
    "    \n",
    "    for i in range(1, n + 1):\n",
    "        for j in range(1, m + 1):\n",
    "            ansDel = D[i - 1][j] + 1\n",
    "            ansIns = D[i][j - 1] + 1\n",
    "            ansRep = D[i - 1][j - 1] + (0 if s[i - 1] == t[j - 1] else 1)\n",
    "            D[i][j] = min(ansDel, ansIns, ansRep)\n",
    "            if D[i][j] == ansDel:\n",
    "                rec[i][j] = \"U\"\n",
    "            elif D[i][j] == ansIns:\n",
    "                rec[i][j] = \"L\"\n",
    "            else:\n",
    "                rec[i][j] = \"LU\"\n",
    "    return D[n][m], rec\n",
    "\n",
    "\n",
    "if __name__ == '__main__':\n",
    "    s1 = \"kittcjen\"\n",
    "    s2 = \"kitchen\"\n",
    "    ans, rec = minimal_edit_distance(s1, s2)\n",
    "    print_MED(rec, s1, s2, len(s1), len(s2))"
   ]
  }
 ],
 "metadata": {
  "kernelspec": {
   "display_name": "Python 3",
   "language": "python",
   "name": "python3"
  },
  "language_info": {
   "codemirror_mode": {
    "name": "ipython",
    "version": 3
   },
   "file_extension": ".py",
   "mimetype": "text/x-python",
   "name": "python",
   "nbconvert_exporter": "python",
   "pygments_lexer": "ipython3",
   "version": "3.11.8"
  }
 },
 "nbformat": 4,
 "nbformat_minor": 2
}
