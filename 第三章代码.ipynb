{
 "cells": [
  {
   "cell_type": "markdown",
   "metadata": {},
   "source": [
    "# 第三章代码"
   ]
  },
  {
   "cell_type": "markdown",
   "metadata": {},
   "source": [
    "## 算法3.1: MergeSort"
   ]
  },
  {
   "cell_type": "code",
   "execution_count": 11,
   "metadata": {},
   "outputs": [],
   "source": [
    "# author: Zeqi Zhu (sy2242117@buaa.edu.cn)\n",
    "\n",
    "def merge_sort(A, l, r):\n",
    "    if l < r:\n",
    "        # Same as (l+r)//2, but avoids overflow for large l and r\n",
    "        mid = l + (r - l) // 2\n",
    "\n",
    "        # Sort first and second halves\n",
    "        merge_sort(A, l, mid)\n",
    "        merge_sort(A, mid + 1, r)\n",
    "        merge(A, l, mid, r)\n",
    "\n",
    "    return A"
   ]
  },
  {
   "cell_type": "markdown",
   "metadata": {},
   "source": [
    "## 算法3.2: Merge "
   ]
  },
  {
   "cell_type": "code",
   "execution_count": 10,
   "metadata": {},
   "outputs": [
    {
     "name": "stdout",
     "output_type": "stream",
     "text": [
      "[5, 6, 7, 11, 12, 12, 13]\n"
     ]
    }
   ],
   "source": [
    "def merge(arr, l, m, r):\n",
    "    n1 = m - l + 1\n",
    "    n2 = r - m\n",
    "    B = [0] * (n1 + n2)  # Temporary array B\n",
    "\n",
    "    i, j, k = l, m + 1, 0  # Initial indexes\n",
    "\n",
    "    # Merge the subarrays into B\n",
    "    while i <= m and j <= r:\n",
    "        if arr[i] <= arr[j]:\n",
    "            B[k] = arr[i]\n",
    "            i += 1\n",
    "        else:\n",
    "            B[k] = arr[j]\n",
    "            j += 1\n",
    "        k += 1\n",
    "\n",
    "    # Copy the remaining elements of left subarray, if there are any\n",
    "    while i <= m:\n",
    "        B[k] = arr[i]\n",
    "        i += 1\n",
    "        k += 1\n",
    "\n",
    "    # Copy the remaining elements of right subarray, if there are any\n",
    "    while j <= r:\n",
    "        B[k] = arr[j]\n",
    "        j += 1\n",
    "        k += 1\n",
    "\n",
    "    # Copy the merged elements back into original array arr\n",
    "    for i in range(l, r + 1):\n",
    "        arr[i] = B[i - l]\n",
    "\n",
    "    return arr\n",
    "\n",
    "# Example usage:\n",
    "example_array = [12, 12, 11, 13, 5, 6, 7]\n",
    "sorted_array = merge_sort(example_array, 0, len(example_array) - 1)\n",
    "print(sorted_array)  # Output: [5, 6, 7, 11, 12, 12, 13]"
   ]
  },
  {
   "cell_type": "markdown",
   "metadata": {},
   "source": [
    "## 算法3.3: Inversion-BruteForce"
   ]
  },
  {
   "cell_type": "code",
   "execution_count": 3,
   "metadata": {},
   "outputs": [
    {
     "name": "stdout",
     "output_type": "stream",
     "text": [
      "3\n"
     ]
    }
   ],
   "source": [
    "def count_inversions_bruteforce(arr):\n",
    "    n = len(arr)\n",
    "    sum = 0\n",
    "    for i in range(n):\n",
    "        for j in range(i + 1, n):\n",
    "            if arr[i] > arr[j]:\n",
    "                sum += 1\n",
    "    return sum\n",
    "\n",
    "# Example usage:\n",
    "example_array = [2, 4, 1, 3, 5]\n",
    "print(count_inversions_bruteforce(example_array))  # Output: 3"
   ]
  },
  {
   "cell_type": "markdown",
   "metadata": {},
   "source": [
    "## 算法3.4: MergeCount "
   ]
  },
  {
   "cell_type": "code",
   "execution_count": 4,
   "metadata": {},
   "outputs": [],
   "source": [
    "def merge_count(arr, l, mid, r):\n",
    "    i = l\n",
    "    j = mid + 1\n",
    "    k = 0\n",
    "    inv_count = 0  # This will hold the count of inversions\n",
    "    B = [0] * (r - l + 1)  # Temporary array B\n",
    "    \n",
    "    # Merge the subarrays and count inversions\n",
    "    while i <= mid and j <= r:\n",
    "        if arr[i] > arr[j]:\n",
    "            B[k] = arr[j]\n",
    "            # The number of inversions is the number of elements remaining in the left subarray\n",
    "            inv_count += (mid - i + 1)\n",
    "            k += 1\n",
    "            j += 1\n",
    "        else:\n",
    "            B[k] = arr[i]\n",
    "            k += 1\n",
    "            i += 1\n",
    "            \n",
    "    # Copy the remaining elements of left subarray, if there are any\n",
    "    while i <= mid:\n",
    "        B[k] = arr[i]\n",
    "        i += 1\n",
    "        k += 1\n",
    "        \n",
    "    # Copy the remaining elements of right subarray, if there are any\n",
    "    while j <= r:\n",
    "        B[k] = arr[j]\n",
    "        j += 1\n",
    "        k += 1\n",
    "        \n",
    "    # Copy the merged elements back into original array arr\n",
    "    for i in range(0, k):\n",
    "        arr[l + i] = B[i]\n",
    "    \n",
    "    return inv_count\n"
   ]
  },
  {
   "cell_type": "markdown",
   "metadata": {},
   "source": [
    "## 算法3.5: CountInver"
   ]
  },
  {
   "cell_type": "code",
   "execution_count": 6,
   "metadata": {},
   "outputs": [
    {
     "name": "stdout",
     "output_type": "stream",
     "text": [
      "(45, [1, 2, 3, 4, 5, 6, 7, 8, 9, 10])\n"
     ]
    }
   ],
   "source": [
    "def count_inver(arr, l, r):\n",
    "    if l >= r:\n",
    "        return 0, arr[l:r+1]\n",
    "    \n",
    "    mid = (l + r) // 2\n",
    "    s1, left_half = count_inver(arr, l, mid)\n",
    "    s2, right_half = count_inver(arr, mid + 1, r)\n",
    "    s3 = merge_count(arr, l, mid, r)  # merge_count function from previous implementation\n",
    "    total = s1 + s2 + s3\n",
    "    \n",
    "    return total, arr[l:r+1]\n",
    "\n",
    "\n",
    "# Example usage:\n",
    "example_array = [10, 9, 8, 7, 6, 5, 4, 3, 2, 1]\n",
    "print(count_inver(example_array, 0, len(example_array) - 1))  # Output: 45\n",
    "\n"
   ]
  }
 ],
 "metadata": {
  "kernelspec": {
   "display_name": "py38_torch",
   "language": "python",
   "name": "python3"
  },
  "language_info": {
   "codemirror_mode": {
    "name": "ipython",
    "version": 3
   },
   "file_extension": ".py",
   "mimetype": "text/x-python",
   "name": "python",
   "nbconvert_exporter": "python",
   "pygments_lexer": "ipython3",
   "version": "3.8.18"
  }
 },
 "nbformat": 4,
 "nbformat_minor": 2
}
